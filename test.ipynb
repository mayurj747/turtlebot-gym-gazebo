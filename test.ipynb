{
 "cells": [
  {
   "cell_type": "code",
   "execution_count": 1,
   "metadata": {},
   "outputs": [],
   "source": [
    "import gym\n",
    "import gym_gazebo\n",
    "import numpy as np\n",
    "\n"
   ]
  },
  {
   "cell_type": "code",
   "execution_count": null,
   "metadata": {},
   "outputs": [],
   "source": [
    "env = gym.make('GazeboEmptyTurtlebotLidarNn-v0')\n",
    "\n",
    "env = gym.wrappers.Monitor(env, './videos', force=True)# ^^^ starts logging statistics and recording videos\n",
    "env.reset()"
   ]
  },
  {
   "cell_type": "code",
   "execution_count": 3,
   "metadata": {},
   "outputs": [],
   "source": [
    "for _ in range(1000):\n",
    "    action =  np.random.randint(21)# random action\n",
    "    observation, reward, done, info = env.step(action)\n",
    "    if done: env.reset()\n",
    "    # env.monitor.close()\n",
    "# gym.upload(\"/tmp/gym-results\", api_key=\"JMXoHnlRtm86Fif6FUw4Qop1DwDkYHy0\")\n",
    "# ^^^ upload stats to the website"
   ]
  },
  {
   "cell_type": "code",
   "execution_count": 14,
   "metadata": {},
   "outputs": [
    {
     "data": {
      "text/plain": [
       "[<matplotlib.lines.Line2D at 0x7fc56c8650b8>]"
      ]
     },
     "execution_count": 14,
     "metadata": {},
     "output_type": "execute_result"
    },
    {
     "data": {
      "image/png": "[encoded data removed]",
      "text/plain": [
       "<Figure size 432x288 with 1 Axes>"
      ]
     },
     "metadata": {},
     "output_type": "display_data"
    }
   ],
   "source": [
    "import matplotlib.pyplot as plt\n",
    "NUM_EPISODES = 1000\n",
    "# Exploration parameters\n",
    "min_epsilon = 0.01\n",
    "# epsilon = 0.99            # minimum exploration probability\n",
    "decay_rate = 50/NUM_EPISODES    # exponential decay rate for exploration prob\n",
    "# decay_rate = 0.99\n",
    "ep_set = []\n",
    "for _ in range(10):\n",
    "    epsilon = min_epsilon + (1.0 - min_epsilon)*np.exp(-decay_rate*_)\n",
    "    ep_set.append(epsilon)\n",
    "\n",
    "plt.plot(ep_set)"
   ]
  }
 ],
 "metadata": {
  "kernelspec": {
   "display_name": "Python 3",
   "language": "python",
   "name": "python3"
  },
  "language_info": {
   "codemirror_mode": {
    "name": "ipython",
    "version": 3
   },
   "file_extension": ".py",
   "mimetype": "text/x-python",
   "name": "python",
   "nbconvert_exporter": "python",
   "pygments_lexer": "ipython3",
   "version": "3.5.2"
  }
 },
 "nbformat": 4,
 "nbformat_minor": 2
}
